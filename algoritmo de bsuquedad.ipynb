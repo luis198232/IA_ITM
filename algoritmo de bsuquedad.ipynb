{
  "nbformat": 4,
  "nbformat_minor": 0,
  "metadata": {
    "colab": {
      "name": "Untitled5.ipynb",
      "provenance": [],
      "collapsed_sections": [],
      "authorship_tag": "ABX9TyNWie3ZMalOf+YzCbEgxm9s",
      "include_colab_link": true
    },
    "kernelspec": {
      "name": "python3",
      "display_name": "Python 3"
    }
  },
  "cells": [
    {
      "cell_type": "markdown",
      "metadata": {
        "id": "view-in-github",
        "colab_type": "text"
      },
      "source": [
        "<a href=\"https://colab.research.google.com/github/luis198232/IA_ITM/blob/master/algoritmo%20de%20bsuquedad.ipynb\" target=\"_parent\"><img src=\"https://colab.research.google.com/assets/colab-badge.svg\" alt=\"Open In Colab\"/></a>"
      ]
    },
    {
      "cell_type": "code",
      "metadata": {
        "id": "qc56XjU7xFJH",
        "colab_type": "code",
        "colab": {}
      },
      "source": [
        ""
      ],
      "execution_count": null,
      "outputs": []
    },
    {
      "cell_type": "markdown",
      "metadata": {
        "id": "ffuLtqPBDm7F",
        "colab_type": "text"
      },
      "source": [
        "<img src=\"https://raw.githubusercontent.com/psatencio/IA_ITM/2020_I/Presentaciones/1.%20Solving%20Problems%20by%20Searching/res/itm_logo.jpg\" width=\"300px\">\n",
        "\n",
        "## Inteligencia Artificial - IAI84\n",
        "### Instituto Tecnológico Metropolitano\n",
        "\n",
        "#### Luis Bernardo Orrego\n",
        "#### Alejandro  \n",
        "\n",
        "###Descripción:\n",
        "A continuacion se dara  a conocer el metodo y la Implementacion de  los algoritmos,asociados a busquedad no informadas y busquedas informadas.\n",
        "        \n",
        "        a) Breadth-First Search, \n",
        "        b) Depth-First Search, \n",
        "        c) Uniform Cost Search, \n",
        "        d) Best-First Search \n",
        "        e) A-star (A*)\n",
        "\n",
        "#Analis del problema:        \n",
        "Se cuenta con una matriz de tamaño  MxN filas y columnas Ingresadas por el usuario y partiendo de esta matriz se busca la conectividad asocida a cada unas posiones o movientos posibles dependiendo de ciertas reglas y obstaculos que hacen parte del problema.\n",
        "\n",
        "\n",
        "\n"
      ]
    }
  ]
}